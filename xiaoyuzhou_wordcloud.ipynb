{
  "nbformat": 4,
  "nbformat_minor": 0,
  "metadata": {
    "colab": {
      "name": "xiaoyuzhou_wordcloud.ipynb",
      "provenance": [],
      "authorship_tag": "ABX9TyM0bnLqj2X3A20Cz5RuzMXo",
      "include_colab_link": true
    },
    "kernelspec": {
      "name": "python3",
      "display_name": "Python 3"
    },
    "language_info": {
      "name": "python"
    }
  },
  "cells": [
    {
      "cell_type": "markdown",
      "metadata": {
        "id": "view-in-github",
        "colab_type": "text"
      },
      "source": [
        "<a href=\"https://colab.research.google.com/github/bluebluegrass/xiaoyuzhou_wordcloud/blob/main/xiaoyuzhou_wordcloud.ipynb\" target=\"_parent\"><img src=\"https://colab.research.google.com/assets/colab-badge.svg\" alt=\"Open In Colab\"/></a>"
      ]
    },
    {
      "cell_type": "code",
      "metadata": {
        "id": "3HgU1_c8a7zN"
      },
      "source": [
        "# install jieba, Chinese text segmentation\n",
        "pip install jieba\n",
        "pip install WordCloud\n",
        "\n",
        "# find the font you want and install. \n",
        "# You can follow this tutorial: https://buomsoo-kim.github.io/colab/2018/04/27/Using-External-fonts-in-colab.md/\n",
        "!wget \"https://noto-website-2.storage.googleapis.com/pkgs/NotoSansSC.zip\"\n",
        "!unzip \"NotoSansSC.zip\"\n",
        "\n"
      ],
      "execution_count": null,
      "outputs": []
    },
    {
      "cell_type": "code",
      "metadata": {
        "id": "61Z-9sTubA1L"
      },
      "source": [
        "#upload your csv or text file with words\n",
        "filename = \"tuijian.csv\"\n",
        "with open(filename) as f:\n",
        " mytext = f.read()\n",
        "print(mytext)"
      ],
      "execution_count": null,
      "outputs": []
    },
    {
      "cell_type": "code",
      "metadata": {
        "id": "onhstOKpbFIx"
      },
      "source": [
        "# use jieba to segment words\n",
        "import jieba\n",
        "mytext = \" \".join(jieba.cut(mytext))\n",
        "\n",
        "print(mytext)"
      ],
      "execution_count": null,
      "outputs": []
    },
    {
      "cell_type": "code",
      "metadata": {
        "id": "ZuXwLCstbd94"
      },
      "source": [
        "\n",
        "import matplotlib.font_manager as fm\n",
        "from wordcloud import WordCloud, STOPWORDS, ImageColorGenerator\n",
        "\n",
        "# stopwords are the words that the wordcloud will ignore\n",
        "stopwords = set(STOPWORDS)\n",
        "stopwords.update([\"我们\", \"什么\", \"可以\",\"自己\"])\n",
        "\n",
        "#you should have the font file already installed. calling the font.\n",
        "path = 'NotoSanSC-Medium.otf'\n",
        "fontprop = fm.FontProperties(fname=path, size= 15)\n",
        "\n",
        "# define your plot. width,height and others.\n",
        "from wordcloud import WordCloud\n",
        "wordcloud = WordCloud(font_path=\"/content/NotoSansSC-Medium.otf\",width=1600, height=800, max_font_size=150, max_words=1000, background_color=\"white\").generate(mytext)\n",
        "%pylab inline\n",
        "import matplotlib.pyplot as plt\n",
        "plt.figure( figsize=(20,10) )\n",
        "# you will get a word cloud with the size you defined.\n",
        "plt.imshow(wordcloud, interpolation='bilinear')\n",
        "plt.axis(\"off\")\n",
        "\n",
        "#store to file\n",
        "plt.savefig(\"cloud.png\", format=\"png\", bbox_inches='tight')"
      ],
      "execution_count": null,
      "outputs": []
    },
    {
      "cell_type": "code",
      "metadata": {
        "id": "PotX3zm6bgQl"
      },
      "source": [
        "# Here is the much more fun version. \n",
        "# Create a wordcloud that looks like xiaoyuzhou's logo\n",
        "# follow this tutorial: https://www.datacamp.com/community/tutorials/wordcloud-python\n",
        "\n",
        "\n",
        "from PIL import Image\n",
        "from wordcloud import WordCloud, STOPWORDS, ImageColorGenerator\n",
        "\n",
        "stopwords = set(STOPWORDS)\n",
        "stopwords.update([\"我们\", \"什么\", \"可以\",\"自己\"])\n",
        "\n",
        "# Generate a word cloud image\n",
        "# Here I drew a xiaoyuzhou logo myself. You can find the image here: https://sm.ms/image/vpVzBtbJ27icFdj\n",
        "# upload the image\n",
        "mask = np.array(Image.open(\"logo_xiaoyuzhou.jpg\"))\n",
        "wordcloud_color = WordCloud(font_path=\"/content/NotoSansSC-Medium.otf\",stopwords=stopwords, width=1600, height=800, max_font_size=150,background_color=\"#fdf5f4\", max_words=500, mask=mask).generate(mytext)\n",
        "# create coloring from image\n",
        "image_colors = ImageColorGenerator(mask)\n",
        "plt.figure(figsize=[7,7])\n",
        "plt.imshow(wordcloud_color.recolor(color_func=image_colors), interpolation=\"bilinear\")\n",
        "plt.axis(\"off\")\n",
        "\n",
        "# store to file\n",
        "plt.savefig(\"wordcloud_generate.png\", format=\"png\")\n",
        "plt.show()\n"
      ],
      "execution_count": null,
      "outputs": []
    },
    {
      "cell_type": "code",
      "metadata": {
        "id": "bPwZKPIGdVm_"
      },
      "source": [
        "#download the file to local\n",
        "from google.colab import files\n",
        "files.download(\"wordcloud_generate.png\") "
      ],
      "execution_count": null,
      "outputs": []
    }
  ]
}